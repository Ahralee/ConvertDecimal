{
 "cells": [
  {
   "cell_type": "markdown",
   "metadata": {},
   "source": [
    "# Convert decimal to hexadecimal"
   ]
  },
  {
   "cell_type": "code",
   "execution_count": 30,
   "metadata": {},
   "outputs": [],
   "source": [
    "def hexadecimal_digit(num):\n",
    "    if num < 10:\n",
    "        return str(num)\n",
    "    digits = {10: 'A', 11: 'B', 12: 'C', 13: 'D', 14: 'E', 15: 'F'}\n",
    "    return digits[num]\n",
    "    \n",
    "def decimal_to_hexadecimal(dec, base=16):\n",
    "    hexadec = ''\n",
    "        \n",
    "    while dec > base:\n",
    "        quotient = dec // base\n",
    "        remainder = dec % base\n",
    "        \n",
    "        dec = quotient\n",
    "        hexadec = hexadecimal_digit(remainder) + hexadec\n",
    "       \n",
    "    hexadec = hexadecimal_digit(dec) + hexadec\n",
    "    return hexadec\n",
    "\n",
    "    \n",
    "    \n",
    "    "
   ]
  },
  {
   "cell_type": "code",
   "execution_count": 31,
   "metadata": {},
   "outputs": [
    {
     "name": "stdout",
     "output_type": "stream",
     "text": [
      "FF\n"
     ]
    }
   ],
   "source": [
    "print(decimal_to_hexadecimal(255))"
   ]
  },
  {
   "cell_type": "code",
   "execution_count": null,
   "metadata": {
    "collapsed": true
   },
   "outputs": [],
   "source": []
  }
 ],
 "metadata": {
  "kernelspec": {
   "display_name": "Python 3",
   "language": "python",
   "name": "python3"
  },
  "language_info": {
   "codemirror_mode": {
    "name": "ipython",
    "version": 3
   },
   "file_extension": ".py",
   "mimetype": "text/x-python",
   "name": "python",
   "nbconvert_exporter": "python",
   "pygments_lexer": "ipython3",
   "version": "3.6.2"
  }
 },
 "nbformat": 4,
 "nbformat_minor": 2
}
